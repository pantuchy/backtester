{
 "cells": [
  {
   "cell_type": "code",
   "execution_count": null,
   "metadata": {},
   "outputs": [],
   "source": [
    "from os.path import exists\n",
    "import backtester as bt\n",
    "import pandas as pd\n",
    "import quantstats as qs"
   ]
  },
  {
   "cell_type": "code",
   "execution_count": null,
   "metadata": {},
   "outputs": [],
   "source": [
    "def get_number(num: int) -> str:\n",
    "\treturn f\"0{num}\" if num < 10 else f\"{num}\""
   ]
  },
  {
   "cell_type": "code",
   "execution_count": null,
   "metadata": {},
   "outputs": [],
   "source": [
    "years = [2021, 2022, 2023]\n",
    "files = []\n",
    "\n",
    "for y in years:\n",
    "\tfor x in range(12):\n",
    "\t\tfile_path = f\"/Users/maksimpol/Downloads/Market Data/binance/futures/BTCUSDT/ohlc/1m/{y}-{get_number(x+1)}.csv\"\n",
    "\n",
    "\t\tif exists(file_path):\n",
    "\t\t\tfiles.append(file_path)"
   ]
  },
  {
   "cell_type": "code",
   "execution_count": null,
   "metadata": {},
   "outputs": [],
   "source": [
    "dfs = (pd.read_csv(f, sep=\",\", header=0, usecols=[0,1,2,3,4,5]) for f in files)\n",
    "df_raw = pd.concat(dfs, ignore_index=False)\n",
    "df_raw[\"datetime\"] = pd.to_datetime(df_raw[\"open_time\"], unit=\"ms\", utc=True)\n",
    "df_raw = df_raw.sort_values(\"datetime\", ascending=True).set_index(\"datetime\")\n",
    "df_raw.drop([\"open_time\"], axis=1, inplace=True)"
   ]
  },
  {
   "cell_type": "code",
   "execution_count": null,
   "metadata": {},
   "outputs": [],
   "source": [
    "delta = pd.Timedelta(900, unit=\"sec\")\n",
    "\n",
    "df = df_raw.resample(delta).agg({\n",
    "\t\"open\": \"first\",\n",
    "\t\"high\": \"max\",\n",
    "\t\"low\": \"min\",\n",
    "\t\"close\": \"last\",\n",
    "\t\"volume\": \"sum\"\n",
    "})\n",
    "\n",
    "df.dropna(inplace=True)"
   ]
  },
  {
   "cell_type": "code",
   "execution_count": null,
   "metadata": {},
   "outputs": [],
   "source": [
    "class BuyAndHold24Hours(bt.Strategy):\n",
    "\tdef __init__(self):\n",
    "\t\tsuper().__init__()\n",
    "\n",
    "\t\tself.min_trade_notional = 10\n",
    "\t\tself.max_balance_risk = 0.1\n",
    "\n",
    "\tdef next(self):\n",
    "\t\tif self.data[\"datetime\"].hour == 0:\n",
    "\t\t\tnotional = self.broker.cash * self.max_balance_risk\n",
    "\n",
    "\t\t\tif notional >= self.min_trade_notional:\n",
    "\t\t\t\tqty = notional / self.data[\"close\"]\n",
    "\t\t\t\tself.open_long(quantity=qty)\n",
    "\t\telif self.data[\"datetime\"].hour == 23:\n",
    "\t\t\tif self.has_long:\n",
    "\t\t\t\tself.close_long()"
   ]
  },
  {
   "cell_type": "code",
   "execution_count": null,
   "metadata": {},
   "outputs": [],
   "source": [
    "strategy = BuyAndHold24Hours()\n",
    "strategy.set_fee_rate(0.04)\n",
    "strategy.set_funding_rate(0.01)\n",
    "strategy.set_base_precision(8)\n",
    "strategy.set_quote_precision(2)\n",
    "strategy.set_price_precision(2)\n",
    "strategy.set_cash(10000)\n",
    "strategy.set_data(df)"
   ]
  },
  {
   "cell_type": "code",
   "execution_count": null,
   "metadata": {},
   "outputs": [],
   "source": [
    "report = strategy.run()"
   ]
  },
  {
   "cell_type": "code",
   "execution_count": null,
   "metadata": {},
   "outputs": [],
   "source": [
    "returns = report.returns.copy()\n",
    "returns = report.returns.set_index(\"datetime\")\n",
    "returns.index = returns.index.tz_localize(None)\n",
    "qs.plots.returns(returns[\"percent\"])"
   ]
  }
 ],
 "metadata": {
  "kernelspec": {
   "display_name": "Python 3",
   "language": "python",
   "name": "python3"
  },
  "language_info": {
   "codemirror_mode": {
    "name": "ipython",
    "version": 3
   },
   "file_extension": ".py",
   "mimetype": "text/x-python",
   "name": "python",
   "nbconvert_exporter": "python",
   "pygments_lexer": "ipython3",
   "version": "3.9.6"
  },
  "orig_nbformat": 4,
  "vscode": {
   "interpreter": {
    "hash": "b0fa6594d8f4cbf19f97940f81e996739fb7646882a419484c72d19e05852a7e"
   }
  }
 },
 "nbformat": 4,
 "nbformat_minor": 2
}
