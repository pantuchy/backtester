{
 "cells": [
  {
   "cell_type": "code",
   "execution_count": 1,
   "metadata": {},
   "outputs": [],
   "source": [
    "import backtester as bt\n",
    "import pandas as pd"
   ]
  },
  {
   "cell_type": "code",
   "execution_count": 2,
   "metadata": {},
   "outputs": [],
   "source": [
    "df = bt.feed.CSVData(\n",
    "\tfiles=[\n",
    "\t\t\"/Users/pol.maksim/Downloads/OHLC Data/binance/futures/BTCUSDT/1m/2021.csv\",\n",
    "\t\t\"/Users/pol.maksim/Downloads/OHLC Data/binance/futures/BTCUSDT/1m/2022.csv\"\n",
    "\t],\n",
    "\ttimestamp=0,\n",
    "\tdatetime=1,\n",
    "\topen=3,\n",
    "\thigh=4,\n",
    "\tlow=5,\n",
    "\tclose=6,\n",
    "\tvolume=7,\n",
    "\tdtformat=\"%Y-%m-%d %H:%M:%S\",\n",
    "\tseparator=\",\",\n",
    "\theader=1,\n",
    "\tstart_date=pd.Timestamp(year=2017, month=1, day=1),\n",
    "\t# end_date=pd.Timestamp(year=2017, month=12, day=31)\n",
    ").read()"
   ]
  },
  {
   "cell_type": "code",
   "execution_count": 3,
   "metadata": {},
   "outputs": [],
   "source": [
    "class BuyAndHold24Hours(bt.Strategy):\n",
    "\tdef __init__(self):\n",
    "\t\tsuper().__init__()\n",
    "\n",
    "\t\tself.min_trade_notional = 10\n",
    "\t\tself.max_balance_risk = 0.1\n",
    "\n",
    "\tdef next(self):\n",
    "\t\tif self.last.datetime.hour == 0 and self.last.datetime.minute == 0:\n",
    "\t\t\tnotional = self.broker.cash * self.max_balance_risk\n",
    "\n",
    "\t\t\tif notional >= self.min_trade_notional:\n",
    "\t\t\t\tqty = notional / self.last.close\n",
    "\t\t\t\tself.open_long(quantity=qty)\n",
    "\t\telif self.last.datetime.hour == 23 and self.last.datetime.minute == 59:\n",
    "\t\t\tif self.has_long:\n",
    "\t\t\t\tself.close_long()"
   ]
  },
  {
   "cell_type": "code",
   "execution_count": 4,
   "metadata": {},
   "outputs": [],
   "source": [
    "strategy = BuyAndHold24Hours()\n",
    "strategy.set_fee_rate(0.04)\n",
    "strategy.set_funding_rate(0.01)\n",
    "strategy.set_base_precision(8)\n",
    "strategy.set_quote_precision(2)\n",
    "strategy.set_price_precision(2)\n",
    "strategy.set_cash(10000)\n",
    "strategy.set_data(df)"
   ]
  },
  {
   "cell_type": "code",
   "execution_count": 5,
   "metadata": {},
   "outputs": [],
   "source": [
    "report = strategy.run()"
   ]
  },
  {
   "cell_type": "code",
   "execution_count": null,
   "metadata": {},
   "outputs": [],
   "source": [
    "report.plot()"
   ]
  }
 ],
 "metadata": {
  "interpreter": {
   "hash": "949777d72b0d2535278d3dc13498b2535136f6dfe0678499012e853ee9abcab1"
  },
  "kernelspec": {
   "display_name": "Python 3.9.9 64-bit",
   "language": "python",
   "name": "python3"
  },
  "language_info": {
   "codemirror_mode": {
    "name": "ipython",
    "version": 3
   },
   "file_extension": ".py",
   "mimetype": "text/x-python",
   "name": "python",
   "nbconvert_exporter": "python",
   "pygments_lexer": "ipython3",
   "version": "3.9.13 (main, May 24 2022, 21:28:31) \n[Clang 13.1.6 (clang-1316.0.21.2)]"
  },
  "orig_nbformat": 4
 },
 "nbformat": 4,
 "nbformat_minor": 2
}
